{
 "cells": [
  {
   "cell_type": "markdown",
   "metadata": {},
   "source": [
    "# Goals -\n",
    "\n",
    "# Backtest Dollar Cost Averaging on SVXY, inverse vol ETF\n",
    "\n",
    "# Find best conditions to implement strategy"
   ]
  },
  {
   "cell_type": "code",
   "execution_count": 292,
   "metadata": {
    "collapsed": true
   },
   "outputs": [],
   "source": [
    "import pandas as pd\n",
    "import numpy as np\n",
    "import matplotlib.pyplot as plt\n",
    "import seaborn as sns\n",
    "\n",
    "%matplotlib inline"
   ]
  },
  {
   "cell_type": "code",
   "execution_count": 293,
   "metadata": {
    "collapsed": true
   },
   "outputs": [],
   "source": [
    "VIX = pd.read_excel('/Users/edwardhuang/Documents/vol_strat.xlsx', sheet_name = 1, index_col = 'Date')"
   ]
  },
  {
   "cell_type": "code",
   "execution_count": 294,
   "metadata": {
    "collapsed": true
   },
   "outputs": [],
   "source": [
    "SVXY = pd.read_excel('/Users/edwardhuang/Documents/vol_strat.xlsx', sheet_name = 0, index_col = 'Date')"
   ]
  },
  {
   "cell_type": "code",
   "execution_count": 295,
   "metadata": {},
   "outputs": [
    {
     "data": {
      "text/html": [
       "<div>\n",
       "<style scoped>\n",
       "    .dataframe tbody tr th:only-of-type {\n",
       "        vertical-align: middle;\n",
       "    }\n",
       "\n",
       "    .dataframe tbody tr th {\n",
       "        vertical-align: top;\n",
       "    }\n",
       "\n",
       "    .dataframe thead th {\n",
       "        text-align: right;\n",
       "    }\n",
       "</style>\n",
       "<table border=\"1\" class=\"dataframe\">\n",
       "  <thead>\n",
       "    <tr style=\"text-align: right;\">\n",
       "      <th></th>\n",
       "      <th>Open</th>\n",
       "      <th>High</th>\n",
       "      <th>Low</th>\n",
       "      <th>Close</th>\n",
       "      <th>Adj Close</th>\n",
       "      <th>Volume</th>\n",
       "    </tr>\n",
       "    <tr>\n",
       "      <th>Date</th>\n",
       "      <th></th>\n",
       "      <th></th>\n",
       "      <th></th>\n",
       "      <th></th>\n",
       "      <th></th>\n",
       "      <th></th>\n",
       "    </tr>\n",
       "  </thead>\n",
       "  <tbody>\n",
       "    <tr>\n",
       "      <th>2011-10-04</th>\n",
       "      <td>4.93625</td>\n",
       "      <td>5.26250</td>\n",
       "      <td>4.91250</td>\n",
       "      <td>5.26250</td>\n",
       "      <td>5.26250</td>\n",
       "      <td>162400</td>\n",
       "    </tr>\n",
       "    <tr>\n",
       "      <th>2011-10-05</th>\n",
       "      <td>5.44125</td>\n",
       "      <td>5.70500</td>\n",
       "      <td>5.43125</td>\n",
       "      <td>5.67375</td>\n",
       "      <td>5.67375</td>\n",
       "      <td>71200</td>\n",
       "    </tr>\n",
       "    <tr>\n",
       "      <th>2011-10-06</th>\n",
       "      <td>5.67875</td>\n",
       "      <td>5.79125</td>\n",
       "      <td>5.60000</td>\n",
       "      <td>5.79125</td>\n",
       "      <td>5.79125</td>\n",
       "      <td>44800</td>\n",
       "    </tr>\n",
       "    <tr>\n",
       "      <th>2011-10-07</th>\n",
       "      <td>5.89875</td>\n",
       "      <td>5.89875</td>\n",
       "      <td>5.59750</td>\n",
       "      <td>5.83625</td>\n",
       "      <td>5.83625</td>\n",
       "      <td>145600</td>\n",
       "    </tr>\n",
       "    <tr>\n",
       "      <th>2011-10-10</th>\n",
       "      <td>5.93750</td>\n",
       "      <td>6.07500</td>\n",
       "      <td>5.92500</td>\n",
       "      <td>6.07500</td>\n",
       "      <td>6.07500</td>\n",
       "      <td>120000</td>\n",
       "    </tr>\n",
       "  </tbody>\n",
       "</table>\n",
       "</div>"
      ],
      "text/plain": [
       "               Open     High      Low    Close  Adj Close  Volume\n",
       "Date                                                             \n",
       "2011-10-04  4.93625  5.26250  4.91250  5.26250    5.26250  162400\n",
       "2011-10-05  5.44125  5.70500  5.43125  5.67375    5.67375   71200\n",
       "2011-10-06  5.67875  5.79125  5.60000  5.79125    5.79125   44800\n",
       "2011-10-07  5.89875  5.89875  5.59750  5.83625    5.83625  145600\n",
       "2011-10-10  5.93750  6.07500  5.92500  6.07500    6.07500  120000"
      ]
     },
     "execution_count": 295,
     "metadata": {},
     "output_type": "execute_result"
    }
   ],
   "source": [
    "SVXY.head()"
   ]
  },
  {
   "cell_type": "markdown",
   "metadata": {},
   "source": [
    "## Find out if there is any significant areas of missing data"
   ]
  },
  {
   "cell_type": "code",
   "execution_count": 296,
   "metadata": {},
   "outputs": [
    {
     "data": {
      "text/html": [
       "<div>\n",
       "<style scoped>\n",
       "    .dataframe tbody tr th:only-of-type {\n",
       "        vertical-align: middle;\n",
       "    }\n",
       "\n",
       "    .dataframe tbody tr th {\n",
       "        vertical-align: top;\n",
       "    }\n",
       "\n",
       "    .dataframe thead th {\n",
       "        text-align: right;\n",
       "    }\n",
       "</style>\n",
       "<table border=\"1\" class=\"dataframe\">\n",
       "  <thead>\n",
       "    <tr style=\"text-align: right;\">\n",
       "      <th></th>\n",
       "      <th>VIX Open</th>\n",
       "      <th>VIX High</th>\n",
       "      <th>VIX Low</th>\n",
       "      <th>VIX Close</th>\n",
       "    </tr>\n",
       "    <tr>\n",
       "      <th>Date</th>\n",
       "      <th></th>\n",
       "      <th></th>\n",
       "      <th></th>\n",
       "      <th></th>\n",
       "    </tr>\n",
       "  </thead>\n",
       "  <tbody>\n",
       "    <tr>\n",
       "      <th>1991-03-01</th>\n",
       "      <td>NaN</td>\n",
       "      <td>NaN</td>\n",
       "      <td>NaN</td>\n",
       "      <td>NaN</td>\n",
       "    </tr>\n",
       "    <tr>\n",
       "      <th>2003-11-27</th>\n",
       "      <td>NaN</td>\n",
       "      <td>NaN</td>\n",
       "      <td>NaN</td>\n",
       "      <td>NaN</td>\n",
       "    </tr>\n",
       "    <tr>\n",
       "      <th>2003-12-25</th>\n",
       "      <td>NaN</td>\n",
       "      <td>NaN</td>\n",
       "      <td>NaN</td>\n",
       "      <td>NaN</td>\n",
       "    </tr>\n",
       "  </tbody>\n",
       "</table>\n",
       "</div>"
      ],
      "text/plain": [
       "            VIX Open  VIX High  VIX Low  VIX Close\n",
       "Date                                              \n",
       "1991-03-01       NaN       NaN      NaN        NaN\n",
       "2003-11-27       NaN       NaN      NaN        NaN\n",
       "2003-12-25       NaN       NaN      NaN        NaN"
      ]
     },
     "execution_count": 296,
     "metadata": {},
     "output_type": "execute_result"
    }
   ],
   "source": [
    "VIX[VIX['VIX Close'].isnull()]"
   ]
  },
  {
   "cell_type": "code",
   "execution_count": 297,
   "metadata": {},
   "outputs": [
    {
     "data": {
      "text/html": [
       "<div>\n",
       "<style scoped>\n",
       "    .dataframe tbody tr th:only-of-type {\n",
       "        vertical-align: middle;\n",
       "    }\n",
       "\n",
       "    .dataframe tbody tr th {\n",
       "        vertical-align: top;\n",
       "    }\n",
       "\n",
       "    .dataframe thead th {\n",
       "        text-align: right;\n",
       "    }\n",
       "</style>\n",
       "<table border=\"1\" class=\"dataframe\">\n",
       "  <thead>\n",
       "    <tr style=\"text-align: right;\">\n",
       "      <th></th>\n",
       "      <th>Open</th>\n",
       "      <th>High</th>\n",
       "      <th>Low</th>\n",
       "      <th>Close</th>\n",
       "      <th>Adj Close</th>\n",
       "      <th>Volume</th>\n",
       "    </tr>\n",
       "    <tr>\n",
       "      <th>Date</th>\n",
       "      <th></th>\n",
       "      <th></th>\n",
       "      <th></th>\n",
       "      <th></th>\n",
       "      <th></th>\n",
       "      <th></th>\n",
       "    </tr>\n",
       "  </thead>\n",
       "  <tbody>\n",
       "  </tbody>\n",
       "</table>\n",
       "</div>"
      ],
      "text/plain": [
       "Empty DataFrame\n",
       "Columns: [Open, High, Low, Close, Adj Close, Volume]\n",
       "Index: []"
      ]
     },
     "execution_count": 297,
     "metadata": {},
     "output_type": "execute_result"
    }
   ],
   "source": [
    "SVXY[SVXY['Close'].isnull()]"
   ]
  },
  {
   "cell_type": "markdown",
   "metadata": {},
   "source": [
    "## Join VIX and SVXY data on Date & format table"
   ]
  },
  {
   "cell_type": "code",
   "execution_count": 298,
   "metadata": {
    "collapsed": true
   },
   "outputs": [],
   "source": [
    "Total = VIX.join(SVXY, how='inner')"
   ]
  },
  {
   "cell_type": "code",
   "execution_count": 299,
   "metadata": {},
   "outputs": [],
   "source": [
    "Total.drop(columns = ['VIX Open','VIX High', 'VIX Low', 'Open', 'High', 'Low', 'Adj Close', 'Volume'], inplace = True)"
   ]
  },
  {
   "cell_type": "code",
   "execution_count": 300,
   "metadata": {},
   "outputs": [],
   "source": [
    "Total.rename(columns={\"VIX Close\": \"VIX Close\", \"Close\": \"SVXY Close\"}, inplace=True)"
   ]
  },
  {
   "cell_type": "code",
   "execution_count": 301,
   "metadata": {
    "collapsed": true
   },
   "outputs": [],
   "source": [
    "Total['Next SVXY'] = Total['SVXY Close'].shift(-1)\n",
    "Total['Next VIX'] = Total['VIX Close'].shift(-1)"
   ]
  },
  {
   "cell_type": "code",
   "execution_count": 302,
   "metadata": {},
   "outputs": [],
   "source": [
    "Total['SVXY Delta'] = Total['Next SVXY'] - Total['SVXY Close']\n",
    "Total['VIX Delta'] = Total['Next VIX'] - Total['VIX Close']"
   ]
  },
  {
   "cell_type": "code",
   "execution_count": 303,
   "metadata": {
    "collapsed": true
   },
   "outputs": [],
   "source": [
    "Total['pnl'] = 0"
   ]
  },
  {
   "cell_type": "code",
   "execution_count": 304,
   "metadata": {},
   "outputs": [
    {
     "data": {
      "text/html": [
       "<div>\n",
       "<style scoped>\n",
       "    .dataframe tbody tr th:only-of-type {\n",
       "        vertical-align: middle;\n",
       "    }\n",
       "\n",
       "    .dataframe tbody tr th {\n",
       "        vertical-align: top;\n",
       "    }\n",
       "\n",
       "    .dataframe thead th {\n",
       "        text-align: right;\n",
       "    }\n",
       "</style>\n",
       "<table border=\"1\" class=\"dataframe\">\n",
       "  <thead>\n",
       "    <tr style=\"text-align: right;\">\n",
       "      <th></th>\n",
       "      <th>VIX Close</th>\n",
       "      <th>SVXY Close</th>\n",
       "      <th>Next SVXY</th>\n",
       "      <th>Next VIX</th>\n",
       "      <th>SVXY Delta</th>\n",
       "      <th>VIX Delta</th>\n",
       "      <th>pnl</th>\n",
       "    </tr>\n",
       "    <tr>\n",
       "      <th>Date</th>\n",
       "      <th></th>\n",
       "      <th></th>\n",
       "      <th></th>\n",
       "      <th></th>\n",
       "      <th></th>\n",
       "      <th></th>\n",
       "      <th></th>\n",
       "    </tr>\n",
       "  </thead>\n",
       "  <tbody>\n",
       "    <tr>\n",
       "      <th>2011-10-04</th>\n",
       "      <td>40.82</td>\n",
       "      <td>5.26250</td>\n",
       "      <td>5.67375</td>\n",
       "      <td>37.81</td>\n",
       "      <td>0.41125</td>\n",
       "      <td>-3.01</td>\n",
       "      <td>0</td>\n",
       "    </tr>\n",
       "    <tr>\n",
       "      <th>2011-10-05</th>\n",
       "      <td>37.81</td>\n",
       "      <td>5.67375</td>\n",
       "      <td>5.79125</td>\n",
       "      <td>36.27</td>\n",
       "      <td>0.11750</td>\n",
       "      <td>-1.54</td>\n",
       "      <td>0</td>\n",
       "    </tr>\n",
       "    <tr>\n",
       "      <th>2011-10-06</th>\n",
       "      <td>36.27</td>\n",
       "      <td>5.79125</td>\n",
       "      <td>5.83625</td>\n",
       "      <td>36.20</td>\n",
       "      <td>0.04500</td>\n",
       "      <td>-0.07</td>\n",
       "      <td>0</td>\n",
       "    </tr>\n",
       "    <tr>\n",
       "      <th>2011-10-07</th>\n",
       "      <td>36.20</td>\n",
       "      <td>5.83625</td>\n",
       "      <td>6.07500</td>\n",
       "      <td>33.02</td>\n",
       "      <td>0.23875</td>\n",
       "      <td>-3.18</td>\n",
       "      <td>0</td>\n",
       "    </tr>\n",
       "    <tr>\n",
       "      <th>2011-10-10</th>\n",
       "      <td>33.02</td>\n",
       "      <td>6.07500</td>\n",
       "      <td>6.15750</td>\n",
       "      <td>32.86</td>\n",
       "      <td>0.08250</td>\n",
       "      <td>-0.16</td>\n",
       "      <td>0</td>\n",
       "    </tr>\n",
       "  </tbody>\n",
       "</table>\n",
       "</div>"
      ],
      "text/plain": [
       "            VIX Close  SVXY Close  Next SVXY  Next VIX  SVXY Delta  VIX Delta  \\\n",
       "Date                                                                            \n",
       "2011-10-04      40.82     5.26250    5.67375     37.81     0.41125      -3.01   \n",
       "2011-10-05      37.81     5.67375    5.79125     36.27     0.11750      -1.54   \n",
       "2011-10-06      36.27     5.79125    5.83625     36.20     0.04500      -0.07   \n",
       "2011-10-07      36.20     5.83625    6.07500     33.02     0.23875      -3.18   \n",
       "2011-10-10      33.02     6.07500    6.15750     32.86     0.08250      -0.16   \n",
       "\n",
       "            pnl  \n",
       "Date             \n",
       "2011-10-04    0  \n",
       "2011-10-05    0  \n",
       "2011-10-06    0  \n",
       "2011-10-07    0  \n",
       "2011-10-10    0  "
      ]
     },
     "execution_count": 304,
     "metadata": {},
     "output_type": "execute_result"
    }
   ],
   "source": [
    "Total.head()"
   ]
  },
  {
   "cell_type": "markdown",
   "metadata": {},
   "source": [
    "## Visualize VIX and SVXY as timeseries"
   ]
  },
  {
   "cell_type": "code",
   "execution_count": 305,
   "metadata": {},
   "outputs": [
    {
     "data": {
      "text/plain": [
       "<matplotlib.axes._subplots.AxesSubplot at 0x1a1e254fd0>"
      ]
     },
     "execution_count": 305,
     "metadata": {},
     "output_type": "execute_result"
    },
    {
     "data": {
      "image/png": "[encoded data removed]",
      "text/plain": [
       "<matplotlib.figure.Figure at 0x1a1e275cf8>"
      ]
     },
     "metadata": {},
     "output_type": "display_data"
    }
   ],
   "source": [
    "Total['VIX Close'].plot()"
   ]
  },
  {
   "cell_type": "code",
   "execution_count": 306,
   "metadata": {},
   "outputs": [
    {
     "data": {
      "text/plain": [
       "<matplotlib.axes._subplots.AxesSubplot at 0x1a1e1d47f0>"
      ]
     },
     "execution_count": 306,
     "metadata": {},
     "output_type": "execute_result"
    },
    {
     "data": {
      "image/png": "[encoded data removed]",
      "text/plain": [
       "<matplotlib.figure.Figure at 0x1a1c59a898>"
      ]
     },
     "metadata": {},
     "output_type": "display_data"
    }
   ],
   "source": [
    "Total['SVXY Close'].plot()"
   ]
  },
  {
   "cell_type": "code",
   "execution_count": null,
   "metadata": {
    "collapsed": true
   },
   "outputs": [],
   "source": []
  },
  {
   "cell_type": "markdown",
   "metadata": {},
   "source": [
    "## Create the strategy"
   ]
  },
  {
   "cell_type": "code",
   "execution_count": 307,
   "metadata": {
    "collapsed": true
   },
   "outputs": [],
   "source": [
    "def vol_strat(VIX, SVXY, next_SVXY):\n",
    "    notional = 1000\n",
    "    shares_bought = notional/SVXY\n",
    "    pnl = (next_SVXY - SVXY) * shares_bought\n",
    "    return pnl"
   ]
  },
  {
   "cell_type": "code",
   "execution_count": 308,
   "metadata": {},
   "outputs": [],
   "source": [
    "Total['pnl'] = np.vectorize(strat)(Total['VIX Close'], Total['SVXY Close'], Total['Next SVXY'])"
   ]
  },
  {
   "cell_type": "code",
   "execution_count": 309,
   "metadata": {},
   "outputs": [
    {
     "data": {
      "text/html": [
       "<div>\n",
       "<style scoped>\n",
       "    .dataframe tbody tr th:only-of-type {\n",
       "        vertical-align: middle;\n",
       "    }\n",
       "\n",
       "    .dataframe tbody tr th {\n",
       "        vertical-align: top;\n",
       "    }\n",
       "\n",
       "    .dataframe thead th {\n",
       "        text-align: right;\n",
       "    }\n",
       "</style>\n",
       "<table border=\"1\" class=\"dataframe\">\n",
       "  <thead>\n",
       "    <tr style=\"text-align: right;\">\n",
       "      <th></th>\n",
       "      <th>VIX Close</th>\n",
       "      <th>SVXY Close</th>\n",
       "      <th>Next SVXY</th>\n",
       "      <th>Next VIX</th>\n",
       "      <th>SVXY Delta</th>\n",
       "      <th>VIX Delta</th>\n",
       "      <th>pnl</th>\n",
       "    </tr>\n",
       "    <tr>\n",
       "      <th>Date</th>\n",
       "      <th></th>\n",
       "      <th></th>\n",
       "      <th></th>\n",
       "      <th></th>\n",
       "      <th></th>\n",
       "      <th></th>\n",
       "      <th></th>\n",
       "    </tr>\n",
       "  </thead>\n",
       "  <tbody>\n",
       "    <tr>\n",
       "      <th>2011-10-04</th>\n",
       "      <td>40.82</td>\n",
       "      <td>5.26250</td>\n",
       "      <td>5.67375</td>\n",
       "      <td>37.81</td>\n",
       "      <td>0.41125</td>\n",
       "      <td>-3.01</td>\n",
       "      <td>78.147268</td>\n",
       "    </tr>\n",
       "    <tr>\n",
       "      <th>2011-10-05</th>\n",
       "      <td>37.81</td>\n",
       "      <td>5.67375</td>\n",
       "      <td>5.79125</td>\n",
       "      <td>36.27</td>\n",
       "      <td>0.11750</td>\n",
       "      <td>-1.54</td>\n",
       "      <td>20.709407</td>\n",
       "    </tr>\n",
       "    <tr>\n",
       "      <th>2011-10-06</th>\n",
       "      <td>36.27</td>\n",
       "      <td>5.79125</td>\n",
       "      <td>5.83625</td>\n",
       "      <td>36.20</td>\n",
       "      <td>0.04500</td>\n",
       "      <td>-0.07</td>\n",
       "      <td>7.770343</td>\n",
       "    </tr>\n",
       "    <tr>\n",
       "      <th>2011-10-07</th>\n",
       "      <td>36.20</td>\n",
       "      <td>5.83625</td>\n",
       "      <td>6.07500</td>\n",
       "      <td>33.02</td>\n",
       "      <td>0.23875</td>\n",
       "      <td>-3.18</td>\n",
       "      <td>40.908117</td>\n",
       "    </tr>\n",
       "    <tr>\n",
       "      <th>2011-10-10</th>\n",
       "      <td>33.02</td>\n",
       "      <td>6.07500</td>\n",
       "      <td>6.15750</td>\n",
       "      <td>32.86</td>\n",
       "      <td>0.08250</td>\n",
       "      <td>-0.16</td>\n",
       "      <td>13.580247</td>\n",
       "    </tr>\n",
       "  </tbody>\n",
       "</table>\n",
       "</div>"
      ],
      "text/plain": [
       "            VIX Close  SVXY Close  Next SVXY  Next VIX  SVXY Delta  VIX Delta  \\\n",
       "Date                                                                            \n",
       "2011-10-04      40.82     5.26250    5.67375     37.81     0.41125      -3.01   \n",
       "2011-10-05      37.81     5.67375    5.79125     36.27     0.11750      -1.54   \n",
       "2011-10-06      36.27     5.79125    5.83625     36.20     0.04500      -0.07   \n",
       "2011-10-07      36.20     5.83625    6.07500     33.02     0.23875      -3.18   \n",
       "2011-10-10      33.02     6.07500    6.15750     32.86     0.08250      -0.16   \n",
       "\n",
       "                  pnl  \n",
       "Date                   \n",
       "2011-10-04  78.147268  \n",
       "2011-10-05  20.709407  \n",
       "2011-10-06   7.770343  \n",
       "2011-10-07  40.908117  \n",
       "2011-10-10  13.580247  "
      ]
     },
     "execution_count": 309,
     "metadata": {},
     "output_type": "execute_result"
    }
   ],
   "source": [
    "Total.head()"
   ]
  },
  {
   "cell_type": "markdown",
   "metadata": {},
   "source": [
    "## Find PnL if you employed strategy every day vs only when VIX > _?"
   ]
  },
  {
   "cell_type": "code",
   "execution_count": 310,
   "metadata": {},
   "outputs": [
    {
     "data": {
      "text/plain": [
       "3022.1866189161929"
      ]
     },
     "execution_count": 310,
     "metadata": {},
     "output_type": "execute_result"
    }
   ],
   "source": [
    "# If you traded everyday, regardless of VIX level. Rebalance daily.\n",
    "Total['pnl'].sum()"
   ]
  },
  {
   "cell_type": "code",
   "execution_count": 311,
   "metadata": {},
   "outputs": [],
   "source": [
    "pnl = Total[Total['VIX Close'] > n]['pnl'].sum()"
   ]
  },
  {
   "cell_type": "code",
   "execution_count": 312,
   "metadata": {},
   "outputs": [],
   "source": [
    "VIX = 5\n",
    "VIX_list = []\n",
    "pnl_list = []\n",
    "days_list = []\n",
    "\n",
    "while VIX <= 35:\n",
    "    pnl = Total[Total['VIX Close'] > VIX]['pnl'].sum()\n",
    "    days = Total[Total['VIX Close'] > VIX]['pnl'].count()\n",
    "    VIX_list.append(VIX)\n",
    "    pnl_list.append(pnl)\n",
    "    days_list.append(days)\n",
    "    VIX += 1"
   ]
  },
  {
   "cell_type": "code",
   "execution_count": 313,
   "metadata": {},
   "outputs": [
    {
     "data": {
      "text/html": [
       "<div>\n",
       "<style scoped>\n",
       "    .dataframe tbody tr th:only-of-type {\n",
       "        vertical-align: middle;\n",
       "    }\n",
       "\n",
       "    .dataframe tbody tr th {\n",
       "        vertical-align: top;\n",
       "    }\n",
       "\n",
       "    .dataframe thead th {\n",
       "        text-align: right;\n",
       "    }\n",
       "</style>\n",
       "<table border=\"1\" class=\"dataframe\">\n",
       "  <thead>\n",
       "    <tr style=\"text-align: right;\">\n",
       "      <th></th>\n",
       "      <th>VIX</th>\n",
       "      <th>total_pnl</th>\n",
       "      <th>days</th>\n",
       "    </tr>\n",
       "  </thead>\n",
       "  <tbody>\n",
       "    <tr>\n",
       "      <th>0</th>\n",
       "      <td>5</td>\n",
       "      <td>3022.186619</td>\n",
       "      <td>1598</td>\n",
       "    </tr>\n",
       "    <tr>\n",
       "      <th>1</th>\n",
       "      <td>6</td>\n",
       "      <td>3022.186619</td>\n",
       "      <td>1598</td>\n",
       "    </tr>\n",
       "    <tr>\n",
       "      <th>2</th>\n",
       "      <td>7</td>\n",
       "      <td>3022.186619</td>\n",
       "      <td>1598</td>\n",
       "    </tr>\n",
       "    <tr>\n",
       "      <th>3</th>\n",
       "      <td>8</td>\n",
       "      <td>3022.186619</td>\n",
       "      <td>1598</td>\n",
       "    </tr>\n",
       "    <tr>\n",
       "      <th>4</th>\n",
       "      <td>9</td>\n",
       "      <td>3022.186619</td>\n",
       "      <td>1598</td>\n",
       "    </tr>\n",
       "    <tr>\n",
       "      <th>5</th>\n",
       "      <td>10</td>\n",
       "      <td>2821.893517</td>\n",
       "      <td>1539</td>\n",
       "    </tr>\n",
       "    <tr>\n",
       "      <th>6</th>\n",
       "      <td>11</td>\n",
       "      <td>2834.059216</td>\n",
       "      <td>1445</td>\n",
       "    </tr>\n",
       "    <tr>\n",
       "      <th>7</th>\n",
       "      <td>12</td>\n",
       "      <td>2984.616292</td>\n",
       "      <td>1305</td>\n",
       "    </tr>\n",
       "    <tr>\n",
       "      <th>8</th>\n",
       "      <td>13</td>\n",
       "      <td>2741.384455</td>\n",
       "      <td>1093</td>\n",
       "    </tr>\n",
       "    <tr>\n",
       "      <th>9</th>\n",
       "      <td>14</td>\n",
       "      <td>2302.129741</td>\n",
       "      <td>858</td>\n",
       "    </tr>\n",
       "    <tr>\n",
       "      <th>10</th>\n",
       "      <td>15</td>\n",
       "      <td>1857.634084</td>\n",
       "      <td>676</td>\n",
       "    </tr>\n",
       "    <tr>\n",
       "      <th>11</th>\n",
       "      <td>16</td>\n",
       "      <td>1032.457915</td>\n",
       "      <td>522</td>\n",
       "    </tr>\n",
       "    <tr>\n",
       "      <th>12</th>\n",
       "      <td>17</td>\n",
       "      <td>911.421196</td>\n",
       "      <td>408</td>\n",
       "    </tr>\n",
       "    <tr>\n",
       "      <th>13</th>\n",
       "      <td>18</td>\n",
       "      <td>1432.033084</td>\n",
       "      <td>328</td>\n",
       "    </tr>\n",
       "    <tr>\n",
       "      <th>14</th>\n",
       "      <td>19</td>\n",
       "      <td>808.365744</td>\n",
       "      <td>254</td>\n",
       "    </tr>\n",
       "    <tr>\n",
       "      <th>15</th>\n",
       "      <td>20</td>\n",
       "      <td>851.574840</td>\n",
       "      <td>209</td>\n",
       "    </tr>\n",
       "    <tr>\n",
       "      <th>16</th>\n",
       "      <td>21</td>\n",
       "      <td>-39.640621</td>\n",
       "      <td>171</td>\n",
       "    </tr>\n",
       "    <tr>\n",
       "      <th>17</th>\n",
       "      <td>22</td>\n",
       "      <td>-40.239726</td>\n",
       "      <td>142</td>\n",
       "    </tr>\n",
       "    <tr>\n",
       "      <th>18</th>\n",
       "      <td>23</td>\n",
       "      <td>-230.189621</td>\n",
       "      <td>116</td>\n",
       "    </tr>\n",
       "    <tr>\n",
       "      <th>19</th>\n",
       "      <td>24</td>\n",
       "      <td>-348.089348</td>\n",
       "      <td>104</td>\n",
       "    </tr>\n",
       "    <tr>\n",
       "      <th>20</th>\n",
       "      <td>25</td>\n",
       "      <td>-538.046561</td>\n",
       "      <td>86</td>\n",
       "    </tr>\n",
       "    <tr>\n",
       "      <th>21</th>\n",
       "      <td>26</td>\n",
       "      <td>-691.890992</td>\n",
       "      <td>75</td>\n",
       "    </tr>\n",
       "    <tr>\n",
       "      <th>22</th>\n",
       "      <td>27</td>\n",
       "      <td>-716.517633</td>\n",
       "      <td>61</td>\n",
       "    </tr>\n",
       "    <tr>\n",
       "      <th>23</th>\n",
       "      <td>28</td>\n",
       "      <td>-449.463626</td>\n",
       "      <td>50</td>\n",
       "    </tr>\n",
       "    <tr>\n",
       "      <th>24</th>\n",
       "      <td>29</td>\n",
       "      <td>16.903265</td>\n",
       "      <td>44</td>\n",
       "    </tr>\n",
       "    <tr>\n",
       "      <th>25</th>\n",
       "      <td>30</td>\n",
       "      <td>47.082110</td>\n",
       "      <td>39</td>\n",
       "    </tr>\n",
       "    <tr>\n",
       "      <th>26</th>\n",
       "      <td>31</td>\n",
       "      <td>-120.254505</td>\n",
       "      <td>32</td>\n",
       "    </tr>\n",
       "    <tr>\n",
       "      <th>27</th>\n",
       "      <td>32</td>\n",
       "      <td>-134.285469</td>\n",
       "      <td>24</td>\n",
       "    </tr>\n",
       "    <tr>\n",
       "      <th>28</th>\n",
       "      <td>33</td>\n",
       "      <td>-368.497496</td>\n",
       "      <td>18</td>\n",
       "    </tr>\n",
       "    <tr>\n",
       "      <th>29</th>\n",
       "      <td>34</td>\n",
       "      <td>-488.922906</td>\n",
       "      <td>13</td>\n",
       "    </tr>\n",
       "    <tr>\n",
       "      <th>30</th>\n",
       "      <td>35</td>\n",
       "      <td>-639.646101</td>\n",
       "      <td>8</td>\n",
       "    </tr>\n",
       "  </tbody>\n",
       "</table>\n",
       "</div>"
      ],
      "text/plain": [
       "    VIX    total_pnl  days\n",
       "0     5  3022.186619  1598\n",
       "1     6  3022.186619  1598\n",
       "2     7  3022.186619  1598\n",
       "3     8  3022.186619  1598\n",
       "4     9  3022.186619  1598\n",
       "5    10  2821.893517  1539\n",
       "6    11  2834.059216  1445\n",
       "7    12  2984.616292  1305\n",
       "8    13  2741.384455  1093\n",
       "9    14  2302.129741   858\n",
       "10   15  1857.634084   676\n",
       "11   16  1032.457915   522\n",
       "12   17   911.421196   408\n",
       "13   18  1432.033084   328\n",
       "14   19   808.365744   254\n",
       "15   20   851.574840   209\n",
       "16   21   -39.640621   171\n",
       "17   22   -40.239726   142\n",
       "18   23  -230.189621   116\n",
       "19   24  -348.089348   104\n",
       "20   25  -538.046561    86\n",
       "21   26  -691.890992    75\n",
       "22   27  -716.517633    61\n",
       "23   28  -449.463626    50\n",
       "24   29    16.903265    44\n",
       "25   30    47.082110    39\n",
       "26   31  -120.254505    32\n",
       "27   32  -134.285469    24\n",
       "28   33  -368.497496    18\n",
       "29   34  -488.922906    13\n",
       "30   35  -639.646101     8"
      ]
     },
     "execution_count": 313,
     "metadata": {},
     "output_type": "execute_result"
    }
   ],
   "source": [
    "# If you traded only when VIX was greater than VIX column in this table. Close trade when VIX is not > than VIX column. Rebalance daily.\n",
    "VIX_filter = pd.DataFrame(data = list(zip(VIX_list,pnl_list, days_list)), columns = ['VIX','total_pnl','days'])\n",
    "VIX_filter"
   ]
  },
  {
   "cell_type": "code",
   "execution_count": 314,
   "metadata": {},
   "outputs": [
    {
     "data": {
      "text/plain": [
       "<matplotlib.axes._subplots.AxesSubplot at 0x1a1e751e10>"
      ]
     },
     "execution_count": 314,
     "metadata": {},
     "output_type": "execute_result"
    },
    {
     "data": {
      "image/png": "[encoded data removed]",
      "text/plain": [
       "<matplotlib.figure.Figure at 0x1a1e740f98>"
      ]
     },
     "metadata": {},
     "output_type": "display_data"
    }
   ],
   "source": [
    "VIX_filter.plot(x = 'VIX', y = 'total_pnl')"
   ]
  },
  {
   "cell_type": "markdown",
   "metadata": {},
   "source": [
    "Answer: If you employed strategy everyday since beginning of dataset, you would have made 3,022 from 1,000 notional.\n",
    "This graph actually seems to counter the idea of selling vol spikes, because employing the strat only at higher VIX levels yields less pnl. Probably due to the fact that this is a daily rebalancing strategy."
   ]
  },
  {
   "cell_type": "markdown",
   "metadata": {},
   "source": [
    "## Is there a skew for the daily PnL?"
   ]
  },
  {
   "cell_type": "code",
   "execution_count": 315,
   "metadata": {},
   "outputs": [
    {
     "data": {
      "text/plain": [
       "<matplotlib.axes._subplots.AxesSubplot at 0x1a1e8976d8>"
      ]
     },
     "execution_count": 315,
     "metadata": {},
     "output_type": "execute_result"
    },
    {
     "data": {
      "image/png": "[encoded data removed]",
      "text/plain": [
       "<matplotlib.figure.Figure at 0x1a1e8352e8>"
      ]
     },
     "metadata": {},
     "output_type": "display_data"
    }
   ],
   "source": [
    "Total['pnl'].plot(kind='box')"
   ]
  },
  {
   "cell_type": "markdown",
   "metadata": {},
   "source": [
    "## Is there a common denominator for the days when pnl is greater than -2 std?"
   ]
  },
  {
   "cell_type": "code",
   "execution_count": 316,
   "metadata": {},
   "outputs": [
    {
     "data": {
      "text/plain": [
       "45.47634970098591"
      ]
     },
     "execution_count": 316,
     "metadata": {},
     "output_type": "execute_result"
    }
   ],
   "source": [
    "pnl_std = Total['pnl'].std()\n",
    "pnl_std"
   ]
  },
  {
   "cell_type": "code",
   "execution_count": 317,
   "metadata": {},
   "outputs": [
    {
     "data": {
      "text/plain": [
       "40"
      ]
     },
     "execution_count": 317,
     "metadata": {},
     "output_type": "execute_result"
    }
   ],
   "source": [
    "# Find number of days when pnl is over -2 Standard Deviations\n",
    "Total[Total['pnl'] < pnl_std*-2]['pnl'].count()"
   ]
  },
  {
   "cell_type": "code",
   "execution_count": 318,
   "metadata": {},
   "outputs": [],
   "source": [
    "bad_days = Total[Total['pnl'] < pnl_std*-2]"
   ]
  },
  {
   "cell_type": "markdown",
   "metadata": {},
   "source": [
    "### Still working on above"
   ]
  },
  {
   "cell_type": "markdown",
   "metadata": {},
   "source": [
    "## Observations"
   ]
  },
  {
   "cell_type": "markdown",
   "metadata": {},
   "source": [
    " - Earn highest pnl if you employed strategy every day, rather than selecting days based on VIX level\n",
    "     - However, this could be misleading due to the fact that VIX has been relatively low since 2016\n",
    " - Most PnL falls within one standard deviation (+/- 45)\n",
    "     - PnL distribution has a fat tail to the negative side. "
   ]
  },
  {
   "cell_type": "code",
   "execution_count": null,
   "metadata": {
    "collapsed": true
   },
   "outputs": [],
   "source": []
  }
 ],
 "metadata": {
  "kernelspec": {
   "display_name": "Python 3",
   "language": "python",
   "name": "python3"
  },
  "language_info": {
   "codemirror_mode": {
    "name": "ipython",
    "version": 3
   },
   "file_extension": ".py",
   "mimetype": "text/x-python",
   "name": "python",
   "nbconvert_exporter": "python",
   "pygments_lexer": "ipython3",
   "version": "3.6.3"
  }
 },
 "nbformat": 4,
 "nbformat_minor": 2
}
